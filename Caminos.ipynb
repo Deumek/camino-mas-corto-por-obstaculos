{
 "cells": [
  {
   "cell_type": "code",
   "execution_count": 1,
   "metadata": {},
   "outputs": [],
   "source": [
    "import numpy as np"
   ]
  },
  {
   "cell_type": "code",
   "execution_count": 8,
   "metadata": {},
   "outputs": [
    {
     "data": {
      "text/plain": [
       "False"
      ]
     },
     "execution_count": 8,
     "metadata": {},
     "output_type": "execute_result"
    }
   ],
   "source": [
    "def checkIntersection(s1, s2):\n",
    "    s1vec = s1[1] - s1[0]\n",
    "    s2vec = s2[1] - s2[0]\n",
    "    dist1Vec = s1[0] - s2[0]\n",
    "    dist2Vec = s1[1] - s2[1]\n",
    "\n",
    "    if ((s1vec[0]*dist1Vec[1] - s1vec[1]*dist1Vec[0])*(s1vec[0]*dist2Vec[1] - s1vec[1]*dist2Vec[0]) < 0.001 and\n",
    "        (s2vec[0]*dist1Vec[1] - s2vec[1]*dist1Vec[0])*(s2vec[0]*dist2Vec[1] - s2vec[1]*dist2Vec[0]) < 0.001):\n",
    "        return True\n",
    "    return False\n",
    "\n",
    "checkIntersection(np.array([(1,1),(2,2)]), np.array([(2,1),(0,0)]))"
   ]
  },
  {
   "cell_type": "code",
   "execution_count": null,
   "metadata": {},
   "outputs": [],
   "source": []
  }
 ],
 "metadata": {
  "kernelspec": {
   "display_name": "VSCode",
   "language": "python",
   "name": "python3"
  },
  "language_info": {
   "codemirror_mode": {
    "name": "ipython",
    "version": 3
   },
   "file_extension": ".py",
   "mimetype": "text/x-python",
   "name": "python",
   "nbconvert_exporter": "python",
   "pygments_lexer": "ipython3",
   "version": "3.9.13"
  }
 },
 "nbformat": 4,
 "nbformat_minor": 2
}
